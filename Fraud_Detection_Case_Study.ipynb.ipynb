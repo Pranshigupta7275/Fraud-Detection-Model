{
 "cells": [
  {
   "cell_type": "code",
   "execution_count": 3,
   "id": "b1563731-8739-4e2a-8141-179485654ab3",
   "metadata": {},
   "outputs": [],
   "source": [
    "import pandas as pd\n",
    "import os"
   ]
  },
  {
   "cell_type": "code",
   "execution_count": 1,
   "id": "79f4d051-71c4-4e84-ba89-31afdcb87dca",
   "metadata": {},
   "outputs": [
    {
     "name": "stdout",
     "output_type": "stream",
     "text": [
      "Defaulting to user installation because normal site-packages is not writeable\n",
      "Requirement already satisfied: pandas in c:\\users\\dines\\appdata\\roaming\\python\\python313\\site-packages (2.3.2)\n",
      "Collecting openpyxl\n",
      "  Downloading openpyxl-3.1.5-py2.py3-none-any.whl.metadata (2.5 kB)\n",
      "Requirement already satisfied: numpy>=1.26.0 in c:\\users\\dines\\appdata\\roaming\\python\\python313\\site-packages (from pandas) (2.3.2)\n",
      "Requirement already satisfied: python-dateutil>=2.8.2 in c:\\users\\dines\\appdata\\roaming\\python\\python313\\site-packages (from pandas) (2.9.0.post0)\n",
      "Requirement already satisfied: pytz>=2020.1 in c:\\users\\dines\\appdata\\roaming\\python\\python313\\site-packages (from pandas) (2025.2)\n",
      "Requirement already satisfied: tzdata>=2022.7 in c:\\users\\dines\\appdata\\roaming\\python\\python313\\site-packages (from pandas) (2025.2)\n",
      "Collecting et-xmlfile (from openpyxl)\n",
      "  Downloading et_xmlfile-2.0.0-py3-none-any.whl.metadata (2.7 kB)\n",
      "Requirement already satisfied: six>=1.5 in c:\\users\\dines\\appdata\\roaming\\python\\python313\\site-packages (from python-dateutil>=2.8.2->pandas) (1.17.0)\n",
      "Downloading openpyxl-3.1.5-py2.py3-none-any.whl (250 kB)\n",
      "Downloading et_xmlfile-2.0.0-py3-none-any.whl (18 kB)\n",
      "Installing collected packages: et-xmlfile, openpyxl\n",
      "\n",
      "   -------------------- ------------------- 1/2 [openpyxl]\n",
      "   -------------------- ------------------- 1/2 [openpyxl]\n",
      "   -------------------- ------------------- 1/2 [openpyxl]\n",
      "   -------------------- ------------------- 1/2 [openpyxl]\n",
      "   -------------------- ------------------- 1/2 [openpyxl]\n",
      "   -------------------- ------------------- 1/2 [openpyxl]\n",
      "   -------------------- ------------------- 1/2 [openpyxl]\n",
      "   -------------------- ------------------- 1/2 [openpyxl]\n",
      "   -------------------- ------------------- 1/2 [openpyxl]\n",
      "   -------------------- ------------------- 1/2 [openpyxl]\n",
      "   -------------------- ------------------- 1/2 [openpyxl]\n",
      "   -------------------- ------------------- 1/2 [openpyxl]\n",
      "   ---------------------------------------- 2/2 [openpyxl]\n",
      "\n",
      "Successfully installed et-xmlfile-2.0.0 openpyxl-3.1.5\n"
     ]
    }
   ],
   "source": [
    "!pip install pandas openpyxl\n"
   ]
  },
  {
   "cell_type": "code",
   "execution_count": 4,
   "id": "722d8658-c88b-4339-a953-fe5f56b796e1",
   "metadata": {},
   "outputs": [
    {
     "name": "stdout",
     "output_type": "stream",
     "text": [
      "<class 'pandas.core.frame.DataFrame'>\n",
      "RangeIndex: 6362620 entries, 0 to 6362619\n",
      "Data columns (total 11 columns):\n",
      " #   Column          Dtype  \n",
      "---  ------          -----  \n",
      " 0   step            int64  \n",
      " 1   type            object \n",
      " 2   amount          float64\n",
      " 3   nameOrig        object \n",
      " 4   oldbalanceOrg   float64\n",
      " 5   newbalanceOrig  float64\n",
      " 6   nameDest        object \n",
      " 7   oldbalanceDest  float64\n",
      " 8   newbalanceDest  float64\n",
      " 9   isFraud         int64  \n",
      " 10  isFlaggedFraud  int64  \n",
      "dtypes: float64(5), int64(3), object(3)\n",
      "memory usage: 534.0+ MB\n",
      "None\n"
     ]
    }
   ],
   "source": [
    "\n",
    "file_path = r'C:\\Users\\dines\\Downloads\\Fraud.csv'\n",
    "\n",
    "# Load CSV into a DataFrame\n",
    "df = pd.read_csv(file_path)\n",
    "\n",
    "# Print info about the DataFrame\n",
    "print(df.info())\n"
   ]
  },
  {
   "cell_type": "code",
   "execution_count": 5,
   "id": "66f9dec8-cd58-49a8-a150-6559e8649b38",
   "metadata": {},
   "outputs": [
    {
     "name": "stdout",
     "output_type": "stream",
     "text": [
      "   step      type    amount     nameOrig  oldbalanceOrg  newbalanceOrig  \\\n",
      "0     1   PAYMENT   9839.64  C1231006815       170136.0       160296.36   \n",
      "1     1   PAYMENT   1864.28  C1666544295        21249.0        19384.72   \n",
      "2     1  TRANSFER    181.00  C1305486145          181.0            0.00   \n",
      "3     1  CASH_OUT    181.00   C840083671          181.0            0.00   \n",
      "4     1   PAYMENT  11668.14  C2048537720        41554.0        29885.86   \n",
      "\n",
      "      nameDest  oldbalanceDest  newbalanceDest  isFraud  isFlaggedFraud  \n",
      "0  M1979787155             0.0             0.0        0               0  \n",
      "1  M2044282225             0.0             0.0        0               0  \n",
      "2   C553264065             0.0             0.0        1               0  \n",
      "3    C38997010         21182.0             0.0        1               0  \n",
      "4  M1230701703             0.0             0.0        0               0  \n"
     ]
    }
   ],
   "source": [
    "print(df.head())"
   ]
  },
  {
   "cell_type": "code",
   "execution_count": 6,
   "id": "82a409c7-874d-49c3-b1b7-586d684f1bff",
   "metadata": {},
   "outputs": [
    {
     "name": "stdout",
     "output_type": "stream",
     "text": [
      "step              0\n",
      "type              0\n",
      "amount            0\n",
      "nameOrig          0\n",
      "oldbalanceOrg     0\n",
      "newbalanceOrig    0\n",
      "nameDest          0\n",
      "oldbalanceDest    0\n",
      "newbalanceDest    0\n",
      "isFraud           0\n",
      "isFlaggedFraud    0\n",
      "dtype: int64\n"
     ]
    }
   ],
   "source": [
    "# Check the count of missing values in each column\n",
    "print(df.isnull().sum())"
   ]
  },
  {
   "cell_type": "code",
   "execution_count": 7,
   "id": "60405399-0f55-407f-97d3-05f5b48eb5bb",
   "metadata": {},
   "outputs": [
    {
     "name": "stdout",
     "output_type": "stream",
     "text": [
      "isFraud\n",
      "0    6354407\n",
      "1       8213\n",
      "Name: count, dtype: int64\n"
     ]
    }
   ],
   "source": [
    "# See the distribution of fraud vs. non-fraud transactions\n",
    "print(df['isFraud'].value_counts())"
   ]
  },
  {
   "cell_type": "code",
   "execution_count": 11,
   "id": "4700ff4d-966e-4f27-9043-6b77bd98048f",
   "metadata": {},
   "outputs": [
    {
     "data": {
      "image/png": "[encoded data removed]",
      "text/plain": [
       "<Figure size 640x480 with 1 Axes>"
      ]
     },
     "metadata": {},
     "output_type": "display_data"
    }
   ],
   "source": [
    "import seaborn as sns\n",
    "import matplotlib.pyplot as plt\n",
    "\n",
    "# Set the style\n",
    "sns.set_style('whitegrid')\n",
    "\n",
    "# Create a count plot\n",
    "sns.countplot(x='isFraud', data=df)\n",
    "plt.title('Distribution of Fraud vs. Non-Fraud Transactions')\n",
    "plt.show()"
   ]
  },
  {
   "cell_type": "code",
   "execution_count": 12,
   "id": "9c85c289-b0b4-4ed5-bce5-0c4394a1baeb",
   "metadata": {},
   "outputs": [
    {
     "data": {
      "image/png": "[encoded data removed]",
      "text/plain": [
       "<Figure size 640x480 with 1 Axes>"
      ]
     },
     "metadata": {},
     "output_type": "display_data"
    }
   ],
   "source": [
    "import seaborn as sns\n",
    "import matplotlib.pyplot as plt\n",
    "\n",
    "sns.boxplot(x=df['amount'])\n",
    "plt.title('Box Plot of Transaction Amount')\n",
    "plt.show()\n",
    "\n"
   ]
  },
  {
   "cell_type": "code",
   "execution_count": 15,
   "id": "94785c2d-1706-4c60-a2a4-1135f5ffa366",
   "metadata": {},
   "outputs": [
    {
     "data": {
      "image/png": "[encoded data removed]",
      "text/plain": [
       "<Figure size 640x480 with 1 Axes>"
      ]
     },
     "metadata": {},
     "output_type": "display_data"
    }
   ],
   "source": [
    "import numpy as np\n",
    "import seaborn as sns\n",
    "import matplotlib.pyplot as plt\n",
    "\n",
    "# Use log1p to handle cases where amount might be 0\n",
    "df['log_amount'] = np.log1p(df['amount'])\n",
    "\n",
    "# Create a new box plot or a distribution plot on the log-transformed data\n",
    "sns.histplot(df['log_amount'], kde=True)\n",
    "plt.title('Log-Transformed Distribution of Transaction Amount')\n",
    "plt.show()"
   ]
  },
  {
   "cell_type": "code",
   "execution_count": 13,
   "id": "53b2d937-1787-4b23-a2fb-cd6052885a35",
   "metadata": {},
   "outputs": [
    {
     "name": "stdout",
     "output_type": "stream",
     "text": [
      "Total number of outliers: 338078\n",
      "Fraud distribution within outliers:\n",
      "isFraud\n",
      "0    334224\n",
      "1      3854\n",
      "Name: count, dtype: int64\n"
     ]
    }
   ],
   "source": [
    "# First, calculate the bounds for outliers using the IQR method\n",
    "Q1 = df['amount'].quantile(0.25)\n",
    "Q3 = df['amount'].quantile(0.75)\n",
    "IQR = Q3 - Q1\n",
    "upper_bound = Q3 + 1.5 * IQR\n",
    "\n",
    "# Create a new dataframe containing only the outliers\n",
    "outliers_df = df[df['amount'] > upper_bound]\n",
    "\n",
    "# Now, check the fraud distribution within these outliers\n",
    "print(f\"Total number of outliers: {len(outliers_df)}\")\n",
    "print(\"Fraud distribution within outliers:\")\n",
    "print(outliers_df['isFraud'].value_counts())\n",
    "\n",
    "\n",
    "\n",
    "\n",
    "\n",
    "\n"
   ]
  },
  {
   "cell_type": "code",
   "execution_count": 14,
   "id": "6c8bb051-aaeb-48e4-8e60-9c10338238a1",
   "metadata": {},
   "outputs": [
    {
     "name": "stdout",
     "output_type": "stream",
     "text": [
      "type\n",
      "TRANSFER    1935\n",
      "CASH_OUT    1919\n",
      "Name: count, dtype: int64\n"
     ]
    }
   ],
   "source": [
    "# Use the 'outliers_df' you created earlier\n",
    "# Check the transaction types for the fraudulent outliers\n",
    "fraudulent_outliers = outliers_df[outliers_df['isFraud'] == 1]\n",
    "print(fraudulent_outliers['type'].value_counts())"
   ]
  },
  {
   "cell_type": "code",
   "execution_count": 17,
   "id": "3c635f80-e4c1-4444-829e-bf4ccf651cd5",
   "metadata": {},
   "outputs": [
    {
     "name": "stdout",
     "output_type": "stream",
     "text": [
      "New features created successfully:\n",
      "  typeOrig typeDest  balance_error_orig  balance_error_dest\n",
      "0        C        M                 0.0             9839.64\n",
      "1        C        M                 0.0             1864.28\n",
      "2        C        C                 0.0              181.00\n",
      "3        C        C                 0.0            21363.00\n",
      "4        C        M                 0.0            11668.14\n"
     ]
    }
   ],
   "source": [
    "# Create features based on the first letter of account names (Customer or Merchant)\n",
    "# [cite_start]This is based on the data dictionary noting that merchants start with 'M' [cite: 5]\n",
    "df['typeOrig'] = df['nameOrig'].str[0]\n",
    "df['typeDest'] = df['nameDest'].str[0]\n",
    "\n",
    "# Create features for balance errors, which can indicate irregular activity\n",
    "# The formula should reflect: new_balance = old_balance - amount\n",
    "df['balance_error_orig'] = df['oldbalanceOrg'] - df['amount'] - df['newbalanceOrig']\n",
    "df['balance_error_dest'] = df['oldbalanceDest'] + df['amount'] - df['newbalanceDest']\n",
    "\n",
    "print(\"New features created successfully:\")\n",
    "print(df[['typeOrig', 'typeDest', 'balance_error_orig', 'balance_error_dest']].head())"
   ]
  },
  {
   "cell_type": "code",
   "execution_count": 20,
   "id": "20036da0-17ae-48e3-a21d-804fc5d463c0",
   "metadata": {},
   "outputs": [
    {
     "name": "stdout",
     "output_type": "stream",
     "text": [
      "Defaulting to user installation because normal site-packages is not writeable\n",
      "Collecting scikit-learn\n",
      "  Downloading scikit_learn-1.7.1-cp313-cp313-win_amd64.whl.metadata (11 kB)\n",
      "Requirement already satisfied: numpy>=1.22.0 in c:\\users\\dines\\appdata\\roaming\\python\\python313\\site-packages (from scikit-learn) (2.3.2)\n",
      "Collecting scipy>=1.8.0 (from scikit-learn)\n",
      "  Downloading scipy-1.16.1-cp313-cp313-win_amd64.whl.metadata (60 kB)\n",
      "Collecting joblib>=1.2.0 (from scikit-learn)\n",
      "  Downloading joblib-1.5.2-py3-none-any.whl.metadata (5.6 kB)\n",
      "Collecting threadpoolctl>=3.1.0 (from scikit-learn)\n",
      "  Downloading threadpoolctl-3.6.0-py3-none-any.whl.metadata (13 kB)\n",
      "Downloading scikit_learn-1.7.1-cp313-cp313-win_amd64.whl (8.7 MB)\n",
      "   ---------------------------------------- 0.0/8.7 MB ? eta -:--:--\n",
      "   ---------------------------------------- 0.0/8.7 MB ? eta -:--:--\n",
      "   ---------------------------------------- 0.0/8.7 MB ? eta -:--:--\n",
      "   - -------------------------------------- 0.3/8.7 MB ? eta -:--:--\n",
      "   --- ------------------------------------ 0.8/8.7 MB 1.9 MB/s eta 0:00:05\n",
      "   ---- ----------------------------------- 1.0/8.7 MB 1.4 MB/s eta 0:00:06\n",
      "   ------- -------------------------------- 1.6/8.7 MB 1.7 MB/s eta 0:00:05\n",
      "   --------- ------------------------------ 2.1/8.7 MB 1.9 MB/s eta 0:00:04\n",
      "   ------------ --------------------------- 2.6/8.7 MB 2.0 MB/s eta 0:00:04\n",
      "   --------------- ------------------------ 3.4/8.7 MB 2.2 MB/s eta 0:00:03\n",
      "   ------------------ --------------------- 3.9/8.7 MB 2.2 MB/s eta 0:00:03\n",
      "   ------------------- -------------------- 4.2/8.7 MB 2.3 MB/s eta 0:00:02\n",
      "   --------------------- ------------------ 4.7/8.7 MB 2.2 MB/s eta 0:00:02\n",
      "   ------------------------ --------------- 5.2/8.7 MB 2.2 MB/s eta 0:00:02\n",
      "   -------------------------- ------------- 5.8/8.7 MB 2.2 MB/s eta 0:00:02\n",
      "   ---------------------------- ----------- 6.3/8.7 MB 2.2 MB/s eta 0:00:02\n",
      "   ------------------------------- -------- 6.8/8.7 MB 2.2 MB/s eta 0:00:01\n",
      "   ---------------------------------- ----- 7.6/8.7 MB 2.3 MB/s eta 0:00:01\n",
      "   ------------------------------------- -- 8.1/8.7 MB 2.3 MB/s eta 0:00:01\n",
      "   ---------------------------------------  8.7/8.7 MB 2.4 MB/s eta 0:00:01\n",
      "   ---------------------------------------- 8.7/8.7 MB 2.3 MB/s  0:00:04\n",
      "Downloading joblib-1.5.2-py3-none-any.whl (308 kB)\n",
      "Downloading scipy-1.16.1-cp313-cp313-win_amd64.whl (38.5 MB)\n",
      "   ---------------------------------------- 0.0/38.5 MB ? eta -:--:--\n",
      "    --------------------------------------- 0.5/38.5 MB 3.1 MB/s eta 0:00:13\n",
      "   - -------------------------------------- 1.0/38.5 MB 2.7 MB/s eta 0:00:15\n",
      "   - -------------------------------------- 1.6/38.5 MB 2.7 MB/s eta 0:00:14\n",
      "   - -------------------------------------- 1.8/38.5 MB 2.1 MB/s eta 0:00:18\n",
      "   -- ------------------------------------- 2.4/38.5 MB 2.3 MB/s eta 0:00:17\n",
      "   -- ------------------------------------- 2.6/38.5 MB 2.1 MB/s eta 0:00:18\n",
      "   --- ------------------------------------ 3.1/38.5 MB 2.1 MB/s eta 0:00:17\n",
      "   --- ------------------------------------ 3.7/38.5 MB 2.2 MB/s eta 0:00:16\n",
      "   ---- ----------------------------------- 4.2/38.5 MB 2.2 MB/s eta 0:00:16\n",
      "   ---- ----------------------------------- 4.5/38.5 MB 2.2 MB/s eta 0:00:16\n",
      "   ----- ---------------------------------- 5.2/38.5 MB 2.2 MB/s eta 0:00:16\n",
      "   ------ --------------------------------- 6.0/38.5 MB 2.3 MB/s eta 0:00:14\n",
      "   ------ --------------------------------- 6.6/38.5 MB 2.4 MB/s eta 0:00:14\n",
      "   ------- -------------------------------- 7.1/38.5 MB 2.4 MB/s eta 0:00:14\n",
      "   ------- -------------------------------- 7.6/38.5 MB 2.4 MB/s eta 0:00:13\n",
      "   -------- ------------------------------- 8.7/38.5 MB 2.6 MB/s eta 0:00:12\n",
      "   --------- ------------------------------ 9.4/38.5 MB 2.6 MB/s eta 0:00:12\n",
      "   ---------- ----------------------------- 10.2/38.5 MB 2.7 MB/s eta 0:00:11\n",
      "   ----------- ---------------------------- 10.7/38.5 MB 2.7 MB/s eta 0:00:11\n",
      "   ----------- ---------------------------- 11.3/38.5 MB 2.7 MB/s eta 0:00:11\n",
      "   ----------- ---------------------------- 11.5/38.5 MB 2.6 MB/s eta 0:00:11\n",
      "   ------------ --------------------------- 11.8/38.5 MB 2.6 MB/s eta 0:00:11\n",
      "   ------------ --------------------------- 12.1/38.5 MB 2.5 MB/s eta 0:00:11\n",
      "   ------------- -------------------------- 12.6/38.5 MB 2.5 MB/s eta 0:00:11\n",
      "   ------------- -------------------------- 13.1/38.5 MB 2.5 MB/s eta 0:00:11\n",
      "   -------------- ------------------------- 14.2/38.5 MB 2.5 MB/s eta 0:00:10\n",
      "   --------------- ------------------------ 14.9/38.5 MB 2.6 MB/s eta 0:00:10\n",
      "   ---------------- ----------------------- 15.5/38.5 MB 2.6 MB/s eta 0:00:09\n",
      "   ---------------- ----------------------- 16.0/38.5 MB 2.6 MB/s eta 0:00:09\n",
      "   ----------------- ---------------------- 16.8/38.5 MB 2.6 MB/s eta 0:00:09\n",
      "   ----------------- ---------------------- 17.0/38.5 MB 2.6 MB/s eta 0:00:09\n",
      "   ----------------- ---------------------- 17.3/38.5 MB 2.5 MB/s eta 0:00:09\n",
      "   ------------------ --------------------- 17.6/38.5 MB 2.5 MB/s eta 0:00:09\n",
      "   ------------------ --------------------- 18.1/38.5 MB 2.5 MB/s eta 0:00:09\n",
      "   ------------------- -------------------- 18.9/38.5 MB 2.5 MB/s eta 0:00:08\n",
      "   ------------------- -------------------- 19.1/38.5 MB 2.5 MB/s eta 0:00:08\n",
      "   -------------------- ------------------- 19.4/38.5 MB 2.4 MB/s eta 0:00:08\n",
      "   -------------------- ------------------- 19.7/38.5 MB 2.4 MB/s eta 0:00:08\n",
      "   -------------------- ------------------- 19.9/38.5 MB 2.4 MB/s eta 0:00:08\n",
      "   -------------------- ------------------- 20.2/38.5 MB 2.4 MB/s eta 0:00:08\n",
      "   --------------------- ------------------ 20.7/38.5 MB 2.4 MB/s eta 0:00:08\n",
      "   ---------------------- ----------------- 21.2/38.5 MB 2.4 MB/s eta 0:00:08\n",
      "   ---------------------- ----------------- 21.8/38.5 MB 2.3 MB/s eta 0:00:08\n",
      "   ---------------------- ----------------- 22.0/38.5 MB 2.3 MB/s eta 0:00:08\n",
      "   ----------------------- ---------------- 22.5/38.5 MB 2.3 MB/s eta 0:00:07\n",
      "   ----------------------- ---------------- 23.1/38.5 MB 2.3 MB/s eta 0:00:07\n",
      "   ------------------------ --------------- 23.9/38.5 MB 2.4 MB/s eta 0:00:07\n",
      "   ------------------------- -------------- 24.4/38.5 MB 2.4 MB/s eta 0:00:06\n",
      "   -------------------------- ------------- 25.2/38.5 MB 2.4 MB/s eta 0:00:06\n",
      "   -------------------------- ------------- 25.7/38.5 MB 2.4 MB/s eta 0:00:06\n",
      "   -------------------------- ------------- 26.0/38.5 MB 2.4 MB/s eta 0:00:06\n",
      "   --------------------------- ------------ 26.2/38.5 MB 2.3 MB/s eta 0:00:06\n",
      "   ---------------------------- ----------- 27.0/38.5 MB 2.4 MB/s eta 0:00:05\n",
      "   ---------------------------- ----------- 27.8/38.5 MB 2.4 MB/s eta 0:00:05\n",
      "   ----------------------------- ---------- 28.6/38.5 MB 2.4 MB/s eta 0:00:05\n",
      "   ------------------------------ --------- 29.6/38.5 MB 2.4 MB/s eta 0:00:04\n",
      "   ------------------------------- -------- 30.7/38.5 MB 2.5 MB/s eta 0:00:04\n",
      "   -------------------------------- ------- 31.5/38.5 MB 2.5 MB/s eta 0:00:03\n",
      "   --------------------------------- ------ 32.0/38.5 MB 2.5 MB/s eta 0:00:03\n",
      "   ---------------------------------- ----- 32.8/38.5 MB 2.5 MB/s eta 0:00:03\n",
      "   ---------------------------------- ----- 33.6/38.5 MB 2.5 MB/s eta 0:00:02\n",
      "   ----------------------------------- ---- 33.8/38.5 MB 2.5 MB/s eta 0:00:02\n",
      "   ----------------------------------- ---- 34.3/38.5 MB 2.5 MB/s eta 0:00:02\n",
      "   ------------------------------------ --- 35.4/38.5 MB 2.6 MB/s eta 0:00:02\n",
      "   ------------------------------------- -- 35.7/38.5 MB 2.6 MB/s eta 0:00:02\n",
      "   ------------------------------------- -- 36.4/38.5 MB 2.6 MB/s eta 0:00:01\n",
      "   -------------------------------------- - 37.0/38.5 MB 2.6 MB/s eta 0:00:01\n",
      "   -------------------------------------- - 37.5/38.5 MB 2.6 MB/s eta 0:00:01\n",
      "   ---------------------------------------  38.0/38.5 MB 2.6 MB/s eta 0:00:01\n",
      "   ---------------------------------------  38.3/38.5 MB 2.6 MB/s eta 0:00:01\n",
      "   ---------------------------------------- 38.5/38.5 MB 2.5 MB/s  0:00:15\n",
      "Downloading threadpoolctl-3.6.0-py3-none-any.whl (18 kB)\n",
      "Installing collected packages: threadpoolctl, scipy, joblib, scikit-learn\n",
      "\n",
      "   ---------- ----------------------------- 1/4 [scipy]\n",
      "   ---------- ----------------------------- 1/4 [scipy]\n",
      "   ---------- ----------------------------- 1/4 [scipy]\n",
      "   ---------- ----------------------------- 1/4 [scipy]\n",
      "   ---------- ----------------------------- 1/4 [scipy]\n",
      "   ---------- ----------------------------- 1/4 [scipy]\n",
      "   ---------- ----------------------------- 1/4 [scipy]\n",
      "   ---------- ----------------------------- 1/4 [scipy]\n",
      "   ---------- ----------------------------- 1/4 [scipy]\n",
      "   ---------- ----------------------------- 1/4 [scipy]\n",
      "   ---------- ----------------------------- 1/4 [scipy]\n",
      "   ---------- ----------------------------- 1/4 [scipy]\n",
      "   ---------- ----------------------------- 1/4 [scipy]\n",
      "   ---------- ----------------------------- 1/4 [scipy]\n",
      "   ---------- ----------------------------- 1/4 [scipy]\n",
      "   ---------- ----------------------------- 1/4 [scipy]\n",
      "   ---------- ----------------------------- 1/4 [scipy]\n",
      "   ---------- ----------------------------- 1/4 [scipy]\n",
      "   ---------- ----------------------------- 1/4 [scipy]\n",
      "   ---------- ----------------------------- 1/4 [scipy]\n",
      "   ---------- ----------------------------- 1/4 [scipy]\n",
      "   ---------- ----------------------------- 1/4 [scipy]\n",
      "   ---------- ----------------------------- 1/4 [scipy]\n",
      "   ---------- ----------------------------- 1/4 [scipy]\n",
      "   ---------- ----------------------------- 1/4 [scipy]\n",
      "   ---------- ----------------------------- 1/4 [scipy]\n",
      "   ---------- ----------------------------- 1/4 [scipy]\n",
      "   ---------- ----------------------------- 1/4 [scipy]\n",
      "   ---------- ----------------------------- 1/4 [scipy]\n",
      "   ---------- ----------------------------- 1/4 [scipy]\n",
      "   ---------- ----------------------------- 1/4 [scipy]\n",
      "   ---------- ----------------------------- 1/4 [scipy]\n",
      "   ---------- ----------------------------- 1/4 [scipy]\n",
      "   ---------- ----------------------------- 1/4 [scipy]\n",
      "   ---------- ----------------------------- 1/4 [scipy]\n",
      "   ---------- ----------------------------- 1/4 [scipy]\n",
      "   ---------- ----------------------------- 1/4 [scipy]\n",
      "   ---------- ----------------------------- 1/4 [scipy]\n",
      "   ---------- ----------------------------- 1/4 [scipy]\n",
      "   ---------- ----------------------------- 1/4 [scipy]\n",
      "   ---------- ----------------------------- 1/4 [scipy]\n",
      "   ---------- ----------------------------- 1/4 [scipy]\n",
      "   ---------- ----------------------------- 1/4 [scipy]\n",
      "   ---------- ----------------------------- 1/4 [scipy]\n",
      "   ---------- ----------------------------- 1/4 [scipy]\n",
      "   ---------- ----------------------------- 1/4 [scipy]\n",
      "   ---------- ----------------------------- 1/4 [scipy]\n",
      "   ---------- ----------------------------- 1/4 [scipy]\n",
      "   ---------- ----------------------------- 1/4 [scipy]\n",
      "   ---------- ----------------------------- 1/4 [scipy]\n",
      "   ---------- ----------------------------- 1/4 [scipy]\n",
      "   ---------- ----------------------------- 1/4 [scipy]\n",
      "   ---------- ----------------------------- 1/4 [scipy]\n",
      "   ---------- ----------------------------- 1/4 [scipy]\n",
      "   ---------- ----------------------------- 1/4 [scipy]\n",
      "   ---------- ----------------------------- 1/4 [scipy]\n",
      "   ---------- ----------------------------- 1/4 [scipy]\n",
      "   ---------- ----------------------------- 1/4 [scipy]\n",
      "   ---------- ----------------------------- 1/4 [scipy]\n",
      "   ---------- ----------------------------- 1/4 [scipy]\n",
      "   ---------- ----------------------------- 1/4 [scipy]\n",
      "   ---------- ----------------------------- 1/4 [scipy]\n",
      "   ---------- ----------------------------- 1/4 [scipy]\n",
      "   ---------- ----------------------------- 1/4 [scipy]\n",
      "   ---------- ----------------------------- 1/4 [scipy]\n",
      "   ---------- ----------------------------- 1/4 [scipy]\n",
      "   ---------- ----------------------------- 1/4 [scipy]\n",
      "   ---------- ----------------------------- 1/4 [scipy]\n",
      "   ---------- ----------------------------- 1/4 [scipy]\n",
      "   ---------- ----------------------------- 1/4 [scipy]\n",
      "   ---------- ----------------------------- 1/4 [scipy]\n",
      "   ---------- ----------------------------- 1/4 [scipy]\n",
      "   ---------- ----------------------------- 1/4 [scipy]\n",
      "   ---------- ----------------------------- 1/4 [scipy]\n",
      "   ---------- ----------------------------- 1/4 [scipy]\n",
      "   ---------- ----------------------------- 1/4 [scipy]\n",
      "   ---------- ----------------------------- 1/4 [scipy]\n",
      "   ---------- ----------------------------- 1/4 [scipy]\n",
      "   ---------- ----------------------------- 1/4 [scipy]\n",
      "   ---------- ----------------------------- 1/4 [scipy]\n",
      "   ---------- ----------------------------- 1/4 [scipy]\n",
      "   ---------- ----------------------------- 1/4 [scipy]\n",
      "   ---------- ----------------------------- 1/4 [scipy]\n",
      "   -------------------- ------------------- 2/4 [joblib]\n",
      "   -------------------- ------------------- 2/4 [joblib]\n",
      "   -------------------- ------------------- 2/4 [joblib]\n",
      "   -------------------- ------------------- 2/4 [joblib]\n",
      "   ------------------------------ --------- 3/4 [scikit-learn]\n",
      "   ------------------------------ --------- 3/4 [scikit-learn]\n",
      "   ------------------------------ --------- 3/4 [scikit-learn]\n",
      "   ------------------------------ --------- 3/4 [scikit-learn]\n",
      "   ------------------------------ --------- 3/4 [scikit-learn]\n",
      "   ------------------------------ --------- 3/4 [scikit-learn]\n",
      "   ------------------------------ --------- 3/4 [scikit-learn]\n",
      "   ------------------------------ --------- 3/4 [scikit-learn]\n",
      "   ------------------------------ --------- 3/4 [scikit-learn]\n",
      "   ------------------------------ --------- 3/4 [scikit-learn]\n",
      "   ------------------------------ --------- 3/4 [scikit-learn]\n",
      "   ------------------------------ --------- 3/4 [scikit-learn]\n",
      "   ------------------------------ --------- 3/4 [scikit-learn]\n",
      "   ------------------------------ --------- 3/4 [scikit-learn]\n",
      "   ------------------------------ --------- 3/4 [scikit-learn]\n",
      "   ------------------------------ --------- 3/4 [scikit-learn]\n",
      "   ------------------------------ --------- 3/4 [scikit-learn]\n",
      "   ------------------------------ --------- 3/4 [scikit-learn]\n",
      "   ------------------------------ --------- 3/4 [scikit-learn]\n",
      "   ------------------------------ --------- 3/4 [scikit-learn]\n",
      "   ------------------------------ --------- 3/4 [scikit-learn]\n",
      "   ------------------------------ --------- 3/4 [scikit-learn]\n",
      "   ------------------------------ --------- 3/4 [scikit-learn]\n",
      "   ------------------------------ --------- 3/4 [scikit-learn]\n",
      "   ------------------------------ --------- 3/4 [scikit-learn]\n",
      "   ------------------------------ --------- 3/4 [scikit-learn]\n",
      "   ------------------------------ --------- 3/4 [scikit-learn]\n",
      "   ------------------------------ --------- 3/4 [scikit-learn]\n",
      "   ------------------------------ --------- 3/4 [scikit-learn]\n",
      "   ------------------------------ --------- 3/4 [scikit-learn]\n",
      "   ------------------------------ --------- 3/4 [scikit-learn]\n",
      "   ------------------------------ --------- 3/4 [scikit-learn]\n",
      "   ------------------------------ --------- 3/4 [scikit-learn]\n",
      "   ------------------------------ --------- 3/4 [scikit-learn]\n",
      "   ------------------------------ --------- 3/4 [scikit-learn]\n",
      "   ------------------------------ --------- 3/4 [scikit-learn]\n",
      "   ------------------------------ --------- 3/4 [scikit-learn]\n",
      "   ------------------------------ --------- 3/4 [scikit-learn]\n",
      "   ------------------------------ --------- 3/4 [scikit-learn]\n",
      "   ------------------------------ --------- 3/4 [scikit-learn]\n",
      "   ------------------------------ --------- 3/4 [scikit-learn]\n",
      "   ------------------------------ --------- 3/4 [scikit-learn]\n",
      "   ------------------------------ --------- 3/4 [scikit-learn]\n",
      "   ------------------------------ --------- 3/4 [scikit-learn]\n",
      "   ------------------------------ --------- 3/4 [scikit-learn]\n",
      "   ------------------------------ --------- 3/4 [scikit-learn]\n",
      "   ------------------------------ --------- 3/4 [scikit-learn]\n",
      "   ------------------------------ --------- 3/4 [scikit-learn]\n",
      "   ------------------------------ --------- 3/4 [scikit-learn]\n",
      "   ---------------------------------------- 4/4 [scikit-learn]\n",
      "\n",
      "Successfully installed joblib-1.5.2 scikit-learn-1.7.1 scipy-1.16.1 threadpoolctl-3.6.0\n"
     ]
    }
   ],
   "source": [
    "!pip install scikit-learn"
   ]
  },
  {
   "cell_type": "code",
   "execution_count": 21,
   "id": "eb60f19a-79e4-4169-b818-3079a24d0908",
   "metadata": {},
   "outputs": [
    {
     "name": "stdout",
     "output_type": "stream",
     "text": [
      "Data successfully split into training and testing sets:\n",
      "Training set shape: (5090096, 14)\n",
      "Testing set shape: (1272524, 14)\n"
     ]
    }
   ],
   "source": [
    "from sklearn.model_selection import train_test_split\n",
    "\n",
    "# --- 2.1: Handle Categorical Variables ---\n",
    "# Convert categorical features into numerical format using one-hot encoding\n",
    "# We include 'type' and our new features 'typeOrig' and 'typeDest'\n",
    "df_prepared = pd.get_dummies(df, columns=['type', 'typeOrig', 'typeDest'], drop_first=True)\n",
    "\n",
    "# --- 2.2: Separate Features (X) and Target (y) ---\n",
    "# The target variable 'y' is what we want to predict\n",
    "y = df_prepared['isFraud']\n",
    "\n",
    "# The features 'X' are all columns except the target and non-predictive ones\n",
    "# We drop the original name columns as they are just IDs, and isFlaggedFraud as it's a business rule\n",
    "X = df_prepared.drop(columns=['isFraud', 'isFlaggedFraud', 'nameOrig', 'nameDest'])\n",
    "\n",
    "# --- 2.3: Split into Training and Testing Sets ---\n",
    "# We split the data so we can train the model on one part and test it on another\n",
    "# 'stratify=y' is CRITICAL here. It ensures both train and test sets have the same percentage of fraud.\n",
    "X_train, X_test, y_train, y_test = train_test_split(\n",
    "    X, y, \n",
    "    test_size=0.2, \n",
    "    random_state=42, \n",
    "    stratify=y\n",
    ")\n",
    "\n",
    "print(\"Data successfully split into training and testing sets:\")\n",
    "print(\"Training set shape:\", X_train.shape)\n",
    "print(\"Testing set shape:\", X_test.shape)"
   ]
  },
  {
   "cell_type": "code",
   "execution_count": 23,
   "id": "1b35c7fe-2354-468c-aecc-ca0d75c069a2",
   "metadata": {},
   "outputs": [
    {
     "name": "stdout",
     "output_type": "stream",
     "text": [
      "Defaulting to user installation because normal site-packages is not writeable\n",
      "Collecting xgboost\n",
      "  Downloading xgboost-3.0.4-py3-none-win_amd64.whl.metadata (2.1 kB)\n",
      "Requirement already satisfied: numpy in c:\\users\\dines\\appdata\\roaming\\python\\python313\\site-packages (from xgboost) (2.3.2)\n",
      "Requirement already satisfied: scipy in c:\\users\\dines\\appdata\\roaming\\python\\python313\\site-packages (from xgboost) (1.16.1)\n",
      "Downloading xgboost-3.0.4-py3-none-win_amd64.whl (56.8 MB)\n",
      "   ---------------------------------------- 0.0/56.8 MB ? eta -:--:--\n",
      "   ---------------------------------------- 0.0/56.8 MB ? eta -:--:--\n",
      "   ---------------------------------------- 0.0/56.8 MB ? eta -:--:--\n",
      "   ---------------------------------------- 0.3/56.8 MB ? eta -:--:--\n",
      "   ---------------------------------------- 0.3/56.8 MB ? eta -:--:--\n",
      "   ---------------------------------------- 0.3/56.8 MB ? eta -:--:--\n",
      "   ---------------------------------------- 0.5/56.8 MB 452.4 kB/s eta 0:02:05\n",
      "    --------------------------------------- 0.8/56.8 MB 694.7 kB/s eta 0:01:21\n",
      "    --------------------------------------- 1.0/56.8 MB 774.8 kB/s eta 0:01:12\n",
      "    --------------------------------------- 1.3/56.8 MB 858.4 kB/s eta 0:01:05\n",
      "   - -------------------------------------- 1.8/56.8 MB 1.0 MB/s eta 0:00:54\n",
      "   - -------------------------------------- 2.1/56.8 MB 1.1 MB/s eta 0:00:52\n",
      "   - -------------------------------------- 2.1/56.8 MB 1.1 MB/s eta 0:00:52\n",
      "   - -------------------------------------- 2.4/56.8 MB 972.8 kB/s eta 0:00:56\n",
      "   - -------------------------------------- 2.6/56.8 MB 1.0 MB/s eta 0:00:55\n",
      "   -- ------------------------------------- 2.9/56.8 MB 1.1 MB/s eta 0:00:51\n",
      "   -- ------------------------------------- 3.1/56.8 MB 1.1 MB/s eta 0:00:50\n",
      "   -- ------------------------------------- 3.1/56.8 MB 1.1 MB/s eta 0:00:50\n",
      "   -- ------------------------------------- 3.4/56.8 MB 1.0 MB/s eta 0:00:52\n",
      "   -- ------------------------------------- 3.7/56.8 MB 1.0 MB/s eta 0:00:51\n",
      "   -- ------------------------------------- 3.9/56.8 MB 1.0 MB/s eta 0:00:53\n",
      "   --- ------------------------------------ 4.5/56.8 MB 1.1 MB/s eta 0:00:49\n",
      "   --- ------------------------------------ 4.7/56.8 MB 1.1 MB/s eta 0:00:47\n",
      "   --- ------------------------------------ 4.7/56.8 MB 1.1 MB/s eta 0:00:47\n",
      "   --- ------------------------------------ 5.5/56.8 MB 1.2 MB/s eta 0:00:44\n",
      "   ---- ----------------------------------- 5.8/56.8 MB 1.2 MB/s eta 0:00:44\n",
      "   ---- ----------------------------------- 6.0/56.8 MB 1.2 MB/s eta 0:00:43\n",
      "   ---- ----------------------------------- 6.3/56.8 MB 1.2 MB/s eta 0:00:43\n",
      "   ---- ----------------------------------- 6.6/56.8 MB 1.2 MB/s eta 0:00:43\n",
      "   ---- ----------------------------------- 6.8/56.8 MB 1.2 MB/s eta 0:00:42\n",
      "   ---- ----------------------------------- 7.1/56.8 MB 1.2 MB/s eta 0:00:42\n",
      "   ----- ---------------------------------- 7.3/56.8 MB 1.2 MB/s eta 0:00:42\n",
      "   ----- ---------------------------------- 7.9/56.8 MB 1.2 MB/s eta 0:00:40\n",
      "   ----- ---------------------------------- 8.4/56.8 MB 1.3 MB/s eta 0:00:39\n",
      "   ------ --------------------------------- 8.7/56.8 MB 1.3 MB/s eta 0:00:38\n",
      "   ------ --------------------------------- 9.2/56.8 MB 1.3 MB/s eta 0:00:37\n",
      "   ------ --------------------------------- 9.4/56.8 MB 1.3 MB/s eta 0:00:36\n",
      "   ------ --------------------------------- 9.7/56.8 MB 1.3 MB/s eta 0:00:37\n",
      "   ------- -------------------------------- 10.0/56.8 MB 1.3 MB/s eta 0:00:36\n",
      "   ------- -------------------------------- 10.2/56.8 MB 1.3 MB/s eta 0:00:36\n",
      "   ------- -------------------------------- 10.2/56.8 MB 1.3 MB/s eta 0:00:36\n",
      "   ------- -------------------------------- 10.5/56.8 MB 1.3 MB/s eta 0:00:37\n",
      "   ------- -------------------------------- 10.7/56.8 MB 1.3 MB/s eta 0:00:37\n",
      "   ------- -------------------------------- 11.0/56.8 MB 1.3 MB/s eta 0:00:37\n",
      "   ------- -------------------------------- 11.3/56.8 MB 1.3 MB/s eta 0:00:36\n",
      "   -------- ------------------------------- 11.5/56.8 MB 1.3 MB/s eta 0:00:36\n",
      "   -------- ------------------------------- 11.5/56.8 MB 1.3 MB/s eta 0:00:36\n",
      "   -------- ------------------------------- 11.5/56.8 MB 1.3 MB/s eta 0:00:36\n",
      "   -------- ------------------------------- 11.8/56.8 MB 1.2 MB/s eta 0:00:38\n",
      "   -------- ------------------------------- 12.1/56.8 MB 1.2 MB/s eta 0:00:37\n",
      "   -------- ------------------------------- 12.6/56.8 MB 1.2 MB/s eta 0:00:37\n",
      "   -------- ------------------------------- 12.6/56.8 MB 1.2 MB/s eta 0:00:37\n",
      "   --------- ------------------------------ 13.1/56.8 MB 1.2 MB/s eta 0:00:36\n",
      "   --------- ------------------------------ 13.6/56.8 MB 1.3 MB/s eta 0:00:35\n",
      "   ---------- ----------------------------- 14.4/56.8 MB 1.3 MB/s eta 0:00:33\n",
      "   ---------- ----------------------------- 14.9/56.8 MB 1.3 MB/s eta 0:00:32\n",
      "   ----------- ---------------------------- 16.0/56.8 MB 1.4 MB/s eta 0:00:30\n",
      "   ----------- ---------------------------- 17.0/56.8 MB 1.5 MB/s eta 0:00:28\n",
      "   ------------ --------------------------- 18.1/56.8 MB 1.5 MB/s eta 0:00:26\n",
      "   ------------- -------------------------- 18.6/56.8 MB 1.5 MB/s eta 0:00:25\n",
      "   -------------- ------------------------- 19.9/56.8 MB 1.6 MB/s eta 0:00:23\n",
      "   -------------- ------------------------- 21.2/56.8 MB 1.7 MB/s eta 0:00:22\n",
      "   --------------- ------------------------ 22.3/56.8 MB 1.7 MB/s eta 0:00:20\n",
      "   --------------- ------------------------ 22.5/56.8 MB 1.7 MB/s eta 0:00:20\n",
      "   ---------------- ----------------------- 23.1/56.8 MB 1.8 MB/s eta 0:00:20\n",
      "   ---------------- ----------------------- 24.1/56.8 MB 1.8 MB/s eta 0:00:19\n",
      "   ----------------- ---------------------- 25.2/56.8 MB 1.8 MB/s eta 0:00:18\n",
      "   ------------------ --------------------- 26.0/56.8 MB 1.9 MB/s eta 0:00:17\n",
      "   ------------------- -------------------- 27.0/56.8 MB 1.9 MB/s eta 0:00:16\n",
      "   ------------------- -------------------- 27.8/56.8 MB 1.9 MB/s eta 0:00:15\n",
      "   -------------------- ------------------- 28.8/56.8 MB 2.0 MB/s eta 0:00:15\n",
      "   --------------------- ------------------ 29.9/56.8 MB 2.0 MB/s eta 0:00:14\n",
      "   --------------------- ------------------ 30.9/56.8 MB 2.1 MB/s eta 0:00:13\n",
      "   ---------------------- ----------------- 31.7/56.8 MB 2.1 MB/s eta 0:00:12\n",
      "   ---------------------- ----------------- 32.5/56.8 MB 2.1 MB/s eta 0:00:12\n",
      "   ----------------------- ---------------- 33.6/56.8 MB 2.2 MB/s eta 0:00:11\n",
      "   ------------------------ --------------- 34.3/56.8 MB 2.2 MB/s eta 0:00:11\n",
      "   ------------------------ --------------- 35.4/56.8 MB 2.2 MB/s eta 0:00:10\n",
      "   ------------------------- -------------- 36.4/56.8 MB 2.3 MB/s eta 0:00:10\n",
      "   -------------------------- ------------- 37.5/56.8 MB 2.3 MB/s eta 0:00:09\n",
      "   -------------------------- ------------- 38.3/56.8 MB 2.3 MB/s eta 0:00:09\n",
      "   --------------------------- ------------ 39.3/56.8 MB 2.3 MB/s eta 0:00:08\n",
      "   ---------------------------- ----------- 40.6/56.8 MB 2.4 MB/s eta 0:00:07\n",
      "   ----------------------------- ---------- 41.4/56.8 MB 2.4 MB/s eta 0:00:07\n",
      "   ----------------------------- ---------- 41.9/56.8 MB 2.4 MB/s eta 0:00:07\n",
      "   ----------------------------- ---------- 42.5/56.8 MB 2.4 MB/s eta 0:00:06\n",
      "   ----------------------------- ---------- 42.5/56.8 MB 2.4 MB/s eta 0:00:06\n",
      "   ----------------------------- ---------- 42.5/56.8 MB 2.4 MB/s eta 0:00:06\n",
      "   ------------------------------ --------- 42.7/56.8 MB 2.3 MB/s eta 0:00:07\n",
      "   ------------------------------ --------- 43.3/56.8 MB 2.3 MB/s eta 0:00:06\n",
      "   ------------------------------ --------- 43.8/56.8 MB 2.3 MB/s eta 0:00:06\n",
      "   ------------------------------ --------- 43.8/56.8 MB 2.3 MB/s eta 0:00:06\n",
      "   ------------------------------ --------- 44.0/56.8 MB 2.3 MB/s eta 0:00:06\n",
      "   ------------------------------- -------- 44.3/56.8 MB 2.3 MB/s eta 0:00:06\n",
      "   ------------------------------- -------- 45.1/56.8 MB 2.3 MB/s eta 0:00:06\n",
      "   -------------------------------- ------- 45.6/56.8 MB 2.3 MB/s eta 0:00:05\n",
      "   -------------------------------- ------- 46.7/56.8 MB 2.3 MB/s eta 0:00:05\n",
      "   --------------------------------- ------ 47.4/56.8 MB 2.3 MB/s eta 0:00:05\n",
      "   ---------------------------------- ----- 48.5/56.8 MB 2.4 MB/s eta 0:00:04\n",
      "   ---------------------------------- ----- 48.5/56.8 MB 2.4 MB/s eta 0:00:04\n",
      "   ---------------------------------- ----- 48.8/56.8 MB 2.3 MB/s eta 0:00:04\n",
      "   ---------------------------------- ----- 49.0/56.8 MB 2.3 MB/s eta 0:00:04\n",
      "   ----------------------------------- ---- 49.8/56.8 MB 2.3 MB/s eta 0:00:04\n",
      "   ----------------------------------- ---- 50.9/56.8 MB 2.4 MB/s eta 0:00:03\n",
      "   ------------------------------------ --- 51.9/56.8 MB 2.4 MB/s eta 0:00:03\n",
      "   ------------------------------------- -- 52.7/56.8 MB 2.4 MB/s eta 0:00:02\n",
      "   -------------------------------------- - 54.0/56.8 MB 2.4 MB/s eta 0:00:02\n",
      "   -------------------------------------- - 55.1/56.8 MB 2.5 MB/s eta 0:00:01\n",
      "   ---------------------------------------  56.1/56.8 MB 2.5 MB/s eta 0:00:01\n",
      "   ---------------------------------------  56.6/56.8 MB 2.5 MB/s eta 0:00:01\n",
      "   ---------------------------------------  56.6/56.8 MB 2.5 MB/s eta 0:00:01\n",
      "   ---------------------------------------- 56.8/56.8 MB 2.5 MB/s  0:00:23\n",
      "Installing collected packages: xgboost\n",
      "Successfully installed xgboost-3.0.4\n"
     ]
    }
   ],
   "source": [
    "!pip install xgboost"
   ]
  },
  {
   "cell_type": "code",
   "execution_count": 24,
   "id": "6ec0ac94-7202-49e2-b227-d09a5fca821e",
   "metadata": {},
   "outputs": [
    {
     "name": "stdout",
     "output_type": "stream",
     "text": [
      "Training the XGBoost model...\n"
     ]
    },
    {
     "name": "stderr",
     "output_type": "stream",
     "text": [
      "C:\\Users\\dines\\AppData\\Roaming\\Python\\Python313\\site-packages\\xgboost\\training.py:183: UserWarning: [12:32:28] WARNING: C:\\actions-runner\\_work\\xgboost\\xgboost\\src\\learner.cc:738: \n",
      "Parameters: { \"use_label_encoder\" } are not used.\n",
      "\n",
      "  bst.update(dtrain, iteration=i, fobj=obj)\n"
     ]
    },
    {
     "name": "stdout",
     "output_type": "stream",
     "text": [
      "Model training complete.\n"
     ]
    }
   ],
   "source": [
    "import xgboost as xgb\n",
    "\n",
    "# --- 3.1: Handle Class Imbalance ---\n",
    "# We calculate a weight to give to the minority class (fraud) to help the model pay more attention to it.\n",
    "# This is a common technique for imbalanced datasets.\n",
    "scale_pos_weight = y_train.value_counts()[0] / y_train.value_counts()[1]\n",
    "\n",
    "# --- 3.2: Initialize and Train the Model ---\n",
    "# We initialize the XGBoost Classifier with the calculated weight\n",
    "model = xgb.XGBClassifier(\n",
    "    objective='binary:logistic',\n",
    "    scale_pos_weight=scale_pos_weight,\n",
    "    use_label_encoder=False,\n",
    "    eval_metric='logloss',\n",
    "    random_state=42\n",
    ")\n",
    "\n",
    "print(\"Training the XGBoost model...\")\n",
    "model.fit(X_train, y_train)\n",
    "print(\"Model training complete.\")"
   ]
  },
  {
   "cell_type": "code",
   "execution_count": 25,
   "id": "3c4bdf4c-f1ae-4bb7-899c-8e3fa872e2f1",
   "metadata": {},
   "outputs": [
    {
     "name": "stdout",
     "output_type": "stream",
     "text": [
      "Classification Report:\n",
      "\n",
      "              precision    recall  f1-score   support\n",
      "\n",
      "           0       1.00      1.00      1.00   1270881\n",
      "           1       0.97      1.00      0.98      1643\n",
      "\n",
      "    accuracy                           1.00   1272524\n",
      "   macro avg       0.99      1.00      0.99   1272524\n",
      "weighted avg       1.00      1.00      1.00   1272524\n",
      "\n",
      "\n",
      "Confusion Matrix:\n",
      "\n",
      "[[1270833      48]\n",
      " [      8    1635]]\n"
     ]
    }
   ],
   "source": [
    "from sklearn.metrics import classification_report, confusion_matrix, roc_auc_score\n",
    "\n",
    "# Make predictions on the test data\n",
    "y_pred = model.predict(X_test)\n",
    "\n",
    "# --- 4.1: Classification Report ---\n",
    "# This report gives you the most important metrics: Precision, Recall, and F1-Score\n",
    "print(\"Classification Report:\\n\")\n",
    "print(classification_report(y_test, y_pred))\n",
    "\n",
    "# --- 4.2: Confusion Matrix ---\n",
    "# This matrix shows the raw counts of correct and incorrect predictions\n",
    "print(\"\\nConfusion Matrix:\\n\")\n",
    "print(confusion_matrix(y_test, y_pred))"
   ]
  },
  {
   "cell_type": "code",
   "execution_count": 26,
   "id": "3fab676b-bd34-40f9-95b8-d63fdfe742bb",
   "metadata": {},
   "outputs": [
    {
     "data": {
      "image/png": "[encoded data removed]",
      "text/plain": [
       "<Figure size 800x600 with 1 Axes>"
      ]
     },
     "metadata": {},
     "output_type": "display_data"
    }
   ],
   "source": [
    "import seaborn as sns\n",
    "import matplotlib.pyplot as plt\n",
    "from sklearn.metrics import confusion_matrix\n",
    "\n",
    "# Generate the confusion matrix from your test data and predictions\n",
    "cm = confusion_matrix(y_test, y_pred)\n",
    "\n",
    "# Create labels for the matrix quadrants\n",
    "labels = ['True Negative', 'False Positive', 'False Negative', 'True Positive']\n",
    "counts = [f'{value:0.0f}' for value in cm.flatten()]\n",
    "box_labels = [f'{v1}\\n{v2}' for v1, v2 in zip(labels, counts)]\n",
    "box_labels = np.asarray(box_labels).reshape(2, 2)\n",
    "\n",
    "# Create the heatmap\n",
    "plt.figure(figsize=(8, 6))\n",
    "sns.heatmap(cm, annot=box_labels, fmt='', cmap='Blues', cbar=False)\n",
    "plt.title('Confusion Matrix for Fraud Detection Model', fontsize=16)\n",
    "plt.ylabel('Actual Label', fontsize=12)\n",
    "plt.xlabel('Predicted Label', fontsize=12)\n",
    "plt.show()"
   ]
  },
  {
   "cell_type": "code",
   "execution_count": 27,
   "id": "3d88efb2-9a4d-4334-b1a9-c972c37c1f57",
   "metadata": {},
   "outputs": [
    {
     "data": {
      "image/png": "[encoded data removed]",
      "text/plain": [
       "<Figure size 800x600 with 1 Axes>"
      ]
     },
     "metadata": {},
     "output_type": "display_data"
    }
   ],
   "source": [
    "from sklearn.metrics import roc_curve, roc_auc_score\n",
    "\n",
    "# Get the prediction probabilities for the positive class (fraud)\n",
    "y_proba = model.predict_proba(X_test)[:, 1]\n",
    "\n",
    "# Calculate the ROC curve points\n",
    "fpr, tpr, thresholds = roc_curve(y_test, y_proba)\n",
    "\n",
    "# Calculate the Area Under the Curve (AUC)\n",
    "auc = roc_auc_score(y_test, y_proba)\n",
    "\n",
    "# Plot the ROC curve\n",
    "plt.figure(figsize=(8, 6))\n",
    "plt.plot(fpr, tpr, label=f'XGBoost Model (AUC = {auc:.3f})')\n",
    "plt.plot([0, 1], [0, 1], 'r--', label='Random Guess')\n",
    "plt.xlabel('False Positive Rate')\n",
    "plt.ylabel('True Positive Rate (Recall)')\n",
    "plt.title('ROC Curve for Fraud Detection', fontsize=16)\n",
    "plt.legend()\n",
    "plt.grid()\n",
    "plt.show()\n"
   ]
  },
  {
   "cell_type": "code",
   "execution_count": null,
   "id": "a8304b6c-724d-457b-a6d6-feddca34ac18",
   "metadata": {},
   "outputs": [],
   "source": []
  }
 ],
 "metadata": {
  "kernelspec": {
   "display_name": "Python 3 (ipykernel)",
   "language": "python",
   "name": "python3"
  },
  "language_info": {
   "codemirror_mode": {
    "name": "ipython",
    "version": 3
   },
   "file_extension": ".py",
   "mimetype": "text/x-python",
   "name": "python",
   "nbconvert_exporter": "python",
   "pygments_lexer": "ipython3",
   "version": "3.13.6"
  }
 },
 "nbformat": 4,
 "nbformat_minor": 5
}
